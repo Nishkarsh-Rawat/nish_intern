{
 "cells": [
  {
   "cell_type": "code",
   "execution_count": 1,
   "id": "5ee95d68",
   "metadata": {},
   "outputs": [],
   "source": [
    "import pandas as pd\n",
    "import numpy as np\n",
    "data=pd.read_csv(r\"C:\\Users\\91852\\OneDrive\\Desktop\\BMC\\cl_input.csv\")"
   ]
  },
  {
   "cell_type": "code",
   "execution_count": 2,
   "id": "d6791173",
   "metadata": {},
   "outputs": [
    {
     "data": {
      "text/html": [
       "<div>\n",
       "<style scoped>\n",
       "    .dataframe tbody tr th:only-of-type {\n",
       "        vertical-align: middle;\n",
       "    }\n",
       "\n",
       "    .dataframe tbody tr th {\n",
       "        vertical-align: top;\n",
       "    }\n",
       "\n",
       "    .dataframe thead th {\n",
       "        text-align: right;\n",
       "    }\n",
       "</style>\n",
       "<table border=\"1\" class=\"dataframe\">\n",
       "  <thead>\n",
       "    <tr style=\"text-align: right;\">\n",
       "      <th></th>\n",
       "      <th>0</th>\n",
       "      <th>1</th>\n",
       "      <th>2</th>\n",
       "      <th>3</th>\n",
       "      <th>4</th>\n",
       "      <th>5</th>\n",
       "      <th>6</th>\n",
       "      <th>7</th>\n",
       "    </tr>\n",
       "  </thead>\n",
       "  <tbody>\n",
       "    <tr>\n",
       "      <th>0</th>\n",
       "      <td>0.650213</td>\n",
       "      <td>-0.381975</td>\n",
       "      <td>-0.522629</td>\n",
       "      <td>0.242820</td>\n",
       "      <td>1.091880</td>\n",
       "      <td>0.464210</td>\n",
       "      <td>0.305443</td>\n",
       "      <td>0.249065</td>\n",
       "    </tr>\n",
       "    <tr>\n",
       "      <th>1</th>\n",
       "      <td>0.199449</td>\n",
       "      <td>-0.065467</td>\n",
       "      <td>-0.035291</td>\n",
       "      <td>-0.038917</td>\n",
       "      <td>-0.008560</td>\n",
       "      <td>-0.076543</td>\n",
       "      <td>0.353438</td>\n",
       "      <td>0.053782</td>\n",
       "    </tr>\n",
       "    <tr>\n",
       "      <th>2</th>\n",
       "      <td>0.509308</td>\n",
       "      <td>-0.484385</td>\n",
       "      <td>1.213731</td>\n",
       "      <td>0.244221</td>\n",
       "      <td>0.514460</td>\n",
       "      <td>0.241271</td>\n",
       "      <td>0.045392</td>\n",
       "      <td>0.347966</td>\n",
       "    </tr>\n",
       "    <tr>\n",
       "      <th>3</th>\n",
       "      <td>-0.014745</td>\n",
       "      <td>0.659582</td>\n",
       "      <td>-0.311564</td>\n",
       "      <td>0.782030</td>\n",
       "      <td>0.439282</td>\n",
       "      <td>-0.008673</td>\n",
       "      <td>-0.349945</td>\n",
       "      <td>-0.638240</td>\n",
       "    </tr>\n",
       "    <tr>\n",
       "      <th>4</th>\n",
       "      <td>0.650213</td>\n",
       "      <td>-0.381975</td>\n",
       "      <td>-0.522629</td>\n",
       "      <td>0.242820</td>\n",
       "      <td>1.091880</td>\n",
       "      <td>0.464210</td>\n",
       "      <td>0.305443</td>\n",
       "      <td>0.249065</td>\n",
       "    </tr>\n",
       "  </tbody>\n",
       "</table>\n",
       "</div>"
      ],
      "text/plain": [
       "          0         1         2         3         4         5         6  \\\n",
       "0  0.650213 -0.381975 -0.522629  0.242820  1.091880  0.464210  0.305443   \n",
       "1  0.199449 -0.065467 -0.035291 -0.038917 -0.008560 -0.076543  0.353438   \n",
       "2  0.509308 -0.484385  1.213731  0.244221  0.514460  0.241271  0.045392   \n",
       "3 -0.014745  0.659582 -0.311564  0.782030  0.439282 -0.008673 -0.349945   \n",
       "4  0.650213 -0.381975 -0.522629  0.242820  1.091880  0.464210  0.305443   \n",
       "\n",
       "          7  \n",
       "0  0.249065  \n",
       "1  0.053782  \n",
       "2  0.347966  \n",
       "3 -0.638240  \n",
       "4  0.249065  "
      ]
     },
     "execution_count": 2,
     "metadata": {},
     "output_type": "execute_result"
    }
   ],
   "source": [
    "data.head()"
   ]
  },
  {
   "cell_type": "code",
   "execution_count": 3,
   "id": "eb7fcc53",
   "metadata": {},
   "outputs": [
    {
     "name": "stdout",
     "output_type": "stream",
     "text": [
      "<class 'pandas.core.frame.DataFrame'>\n",
      "RangeIndex: 25567 entries, 0 to 25566\n",
      "Data columns (total 8 columns):\n",
      " #   Column  Non-Null Count  Dtype  \n",
      "---  ------  --------------  -----  \n",
      " 0   0       25567 non-null  float64\n",
      " 1   1       25567 non-null  float64\n",
      " 2   2       25567 non-null  float64\n",
      " 3   3       25567 non-null  float64\n",
      " 4   4       25567 non-null  float64\n",
      " 5   5       25567 non-null  float64\n",
      " 6   6       25567 non-null  float64\n",
      " 7   7       25567 non-null  float64\n",
      "dtypes: float64(8)\n",
      "memory usage: 1.6 MB\n"
     ]
    }
   ],
   "source": [
    "data.info()"
   ]
  },
  {
   "cell_type": "code",
   "execution_count": 4,
   "id": "cfdb42c1",
   "metadata": {},
   "outputs": [
    {
     "data": {
      "text/plain": [
       "0    1.852130\n",
       "1    2.003721\n",
       "2    1.921619\n",
       "3    2.895430\n",
       "4    2.169389\n",
       "5    1.897795\n",
       "6    1.755244\n",
       "7    1.962480\n",
       "dtype: float64"
      ]
     },
     "execution_count": 4,
     "metadata": {},
     "output_type": "execute_result"
    }
   ],
   "source": [
    "data.max()"
   ]
  },
  {
   "cell_type": "code",
   "execution_count": 5,
   "id": "8f86b741",
   "metadata": {},
   "outputs": [
    {
     "data": {
      "text/plain": [
       "0   -1.346280\n",
       "1   -1.221087\n",
       "2   -1.391317\n",
       "3   -1.041403\n",
       "4   -1.642408\n",
       "5   -1.371064\n",
       "6   -1.518580\n",
       "7   -1.249328\n",
       "dtype: float64"
      ]
     },
     "execution_count": 5,
     "metadata": {},
     "output_type": "execute_result"
    }
   ],
   "source": [
    "data.min()"
   ]
  },
  {
   "cell_type": "code",
   "execution_count": null,
   "id": "48bff85e",
   "metadata": {},
   "outputs": [],
   "source": []
  },
  {
   "cell_type": "markdown",
   "id": "47d1c6f0",
   "metadata": {},
   "source": [
    "# Clustering"
   ]
  },
  {
   "cell_type": "markdown",
   "id": "1737ca8d",
   "metadata": {},
   "source": [
    "## DBSCAN"
   ]
  },
  {
   "cell_type": "markdown",
   "id": "0c01ad9e",
   "metadata": {},
   "source": [
    "### selecting emp "
   ]
  },
  {
   "cell_type": "code",
   "execution_count": 6,
   "id": "153a8006",
   "metadata": {},
   "outputs": [],
   "source": [
    "from sklearn.neighbors import NearestNeighbors\n",
    "from matplotlib import pyplot as plt"
   ]
  },
  {
   "cell_type": "code",
   "execution_count": 7,
   "id": "49e04f53",
   "metadata": {},
   "outputs": [],
   "source": [
    "neighbors = NearestNeighbors(n_neighbors=16)\n",
    "neighbors_fit = neighbors.fit(data)\n",
    "distances, indices = neighbors_fit.kneighbors(data)"
   ]
  },
  {
   "cell_type": "code",
   "execution_count": 8,
   "id": "cc9f3513",
   "metadata": {
    "scrolled": true
   },
   "outputs": [
    {
     "data": {
      "text/plain": [
       "[<matplotlib.lines.Line2D at 0x15f3b68fe50>]"
      ]
     },
     "execution_count": 8,
     "metadata": {},
     "output_type": "execute_result"
    },
    {
     "data": {
      "image/png": "[encoded data removed]",
      "text/plain": [
       "<Figure size 432x288 with 1 Axes>"
      ]
     },
     "metadata": {
      "needs_background": "light"
     },
     "output_type": "display_data"
    }
   ],
   "source": [
    "distances = np.sort(distances, axis=0)\n",
    "distances = distances[:,1]\n",
    "plt.plot(distances)"
   ]
  },
  {
   "cell_type": "code",
   "execution_count": 9,
   "id": "38287ad8",
   "metadata": {},
   "outputs": [],
   "source": [
    "from sklearn.cluster import DBSCAN"
   ]
  },
  {
   "cell_type": "code",
   "execution_count": 10,
   "id": "518fd410",
   "metadata": {},
   "outputs": [
    {
     "name": "stdout",
     "output_type": "stream",
     "text": [
      "0.6938272487389938\n"
     ]
    }
   ],
   "source": [
    "db = DBSCAN(eps=0.02, min_samples=100).fit(data)\n",
    "\n",
    "labels=db.labels_\n",
    "\n",
    "\n",
    "from sklearn import metrics\n",
    "\n",
    "#identifying the points which makes up our core points\n",
    "sample_cores=np.zeros_like(labels,dtype=bool)\n",
    "\n",
    "sample_cores[db.core_sample_indices_]=True\n",
    "\n",
    "#Calculating the number of clusters\n",
    "\n",
    "n_clusters=len(set(labels))- (1 if -1 in labels else 0)\n",
    "\n",
    "\n",
    "\n",
    "print(metrics.silhouette_score(data,labels))\n",
    "\n",
    "\n",
    "\n",
    "\n"
   ]
  },
  {
   "cell_type": "code",
   "execution_count": 11,
   "id": "f337b307",
   "metadata": {},
   "outputs": [
    {
     "data": {
      "text/plain": [
       "21"
      ]
     },
     "execution_count": 11,
     "metadata": {},
     "output_type": "execute_result"
    }
   ],
   "source": [
    "n_clusters"
   ]
  },
  {
   "cell_type": "code",
   "execution_count": 12,
   "id": "8364e37e",
   "metadata": {},
   "outputs": [
    {
     "name": "stdout",
     "output_type": "stream",
     "text": [
      "Estimated number of noise points: 5604\n"
     ]
    }
   ],
   "source": [
    "n_noise_ = list(labels).count(-1)\n",
    "\n",
    "\n",
    "print(\"Estimated number of noise points: %d\" % n_noise_)\n",
    "\n"
   ]
  },
  {
   "cell_type": "code",
   "execution_count": 13,
   "id": "e6c7e2f4",
   "metadata": {},
   "outputs": [],
   "source": [
    "l=list(labels)\n",
    "cl_labels=[0] *n_clusters"
   ]
  },
  {
   "cell_type": "code",
   "execution_count": 14,
   "id": "2f740c4d",
   "metadata": {},
   "outputs": [],
   "source": [
    "for i in range(len(l)):\n",
    "    if l[i]!=-1:\n",
    "        cl_labels[l[i]]=cl_labels[l[i]]+1"
   ]
  },
  {
   "cell_type": "code",
   "execution_count": 15,
   "id": "cbaff6eb",
   "metadata": {},
   "outputs": [
    {
     "name": "stdout",
     "output_type": "stream",
     "text": [
      "0    320\n",
      "1    162\n",
      "2    184\n",
      "3    129\n",
      "4    131\n",
      "5    108\n",
      "6    108\n",
      "7    2753\n",
      "8    3357\n",
      "9    153\n",
      "10    112\n",
      "11    117\n",
      "12    8903\n",
      "13    1153\n",
      "14    231\n",
      "15    231\n",
      "16    230\n",
      "17    231\n",
      "18    231\n",
      "19    231\n",
      "20    888\n"
     ]
    }
   ],
   "source": [
    "for i in range(len(cl_labels)):\n",
    "    print(i,\"  \",cl_labels[i])\n",
    "#cl_labels"
   ]
  },
  {
   "cell_type": "code",
   "execution_count": null,
   "id": "b622cb38",
   "metadata": {},
   "outputs": [],
   "source": []
  },
  {
   "cell_type": "markdown",
   "id": "0960ad3b",
   "metadata": {},
   "source": [
    "##  T-SNE"
   ]
  },
  {
   "cell_type": "code",
   "execution_count": 16,
   "id": "90b8a7c1",
   "metadata": {},
   "outputs": [],
   "source": [
    "from sklearn.manifold import TSNE\n",
    "from sklearn.preprocessing import StandardScaler"
   ]
  },
  {
   "cell_type": "code",
   "execution_count": 17,
   "id": "f08334bd",
   "metadata": {},
   "outputs": [],
   "source": [
    "model = TSNE(n_components = 2, random_state = 0)"
   ]
  },
  {
   "cell_type": "code",
   "execution_count": 18,
   "id": "f0128bb0",
   "metadata": {},
   "outputs": [],
   "source": [
    "tsne_data = model.fit_transform(data)"
   ]
  },
  {
   "cell_type": "code",
   "execution_count": 19,
   "id": "7979d960",
   "metadata": {},
   "outputs": [],
   "source": [
    "tsne_data = np.vstack((tsne_data.T, labels)).T\n",
    "tsne_df = pd.DataFrame(data = tsne_data,\n",
    "     columns =(\"Dim_1\", \"Dim_2\", \"label\"))"
   ]
  },
  {
   "cell_type": "code",
   "execution_count": 20,
   "id": "6af20902",
   "metadata": {},
   "outputs": [],
   "source": [
    "import seaborn"
   ]
  },
  {
   "cell_type": "code",
   "execution_count": 21,
   "id": "930fd9df",
   "metadata": {},
   "outputs": [
    {
     "data": {
      "image/png": "[encoded data removed]",
      "text/plain": [
       "<Figure size 490.375x432 with 1 Axes>"
      ]
     },
     "metadata": {
      "needs_background": "light"
     },
     "output_type": "display_data"
    }
   ],
   "source": [
    "seaborn.FacetGrid(tsne_df, hue =\"label\", height = 6).map(\n",
    "       plt.scatter, 'Dim_1', 'Dim_2').add_legend()\n",
    " \n",
    "plt.show()"
   ]
  },
  {
   "cell_type": "code",
   "execution_count": 22,
   "id": "dbd210ea",
   "metadata": {},
   "outputs": [
    {
     "data": {
      "text/plain": [
       "<Figure size 432x288 with 0 Axes>"
      ]
     },
     "metadata": {},
     "output_type": "display_data"
    }
   ],
   "source": [
    "plt.savefig('Clusters.png')"
   ]
  },
  {
   "cell_type": "markdown",
   "id": "0d9344f7",
   "metadata": {},
   "source": [
    "# Anamoly Scoring"
   ]
  },
  {
   "cell_type": "code",
   "execution_count": null,
   "id": "491d1c4d",
   "metadata": {},
   "outputs": [],
   "source": []
  }
 ],
 "metadata": {
  "kernelspec": {
   "display_name": "Python 3 (ipykernel)",
   "language": "python",
   "name": "python3"
  },
  "language_info": {
   "codemirror_mode": {
    "name": "ipython",
    "version": 3
   },
   "file_extension": ".py",
   "mimetype": "text/x-python",
   "name": "python",
   "nbconvert_exporter": "python",
   "pygments_lexer": "ipython3",
   "version": "3.9.7"
  }
 },
 "nbformat": 4,
 "nbformat_minor": 5
}
