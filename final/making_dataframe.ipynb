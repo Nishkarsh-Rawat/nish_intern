{
 "cells": [
  {
   "cell_type": "code",
   "execution_count": 1,
   "id": "4dec49ff",
   "metadata": {},
   "outputs": [],
   "source": [
    "import numpy as np\n",
    "import pandas as pd"
   ]
  },
  {
   "cell_type": "code",
   "execution_count": 11,
   "id": "41e50b5b",
   "metadata": {},
   "outputs": [],
   "source": [
    "score_labels=pd.read_csv(r'C:\\Users\\91852\\OneDrive\\Desktop\\ff.csv')\n",
    "parsed_logs=pd.read_csv(r\"C:\\Users\\91852\\Downloads\\ParsedLogs.csv\")\n",
    "cluster_number=pd.read_csv(r\"C:\\Users\\91852\\OneDrive\\Desktop\\cl_number.csv\")"
   ]
  },
  {
   "cell_type": "code",
   "execution_count": 12,
   "id": "59f5bff0",
   "metadata": {},
   "outputs": [
    {
     "data": {
      "text/html": [
       "<div>\n",
       "<style scoped>\n",
       "    .dataframe tbody tr th:only-of-type {\n",
       "        vertical-align: middle;\n",
       "    }\n",
       "\n",
       "    .dataframe tbody tr th {\n",
       "        vertical-align: top;\n",
       "    }\n",
       "\n",
       "    .dataframe thead th {\n",
       "        text-align: right;\n",
       "    }\n",
       "</style>\n",
       "<table border=\"1\" class=\"dataframe\">\n",
       "  <thead>\n",
       "    <tr style=\"text-align: right;\">\n",
       "      <th></th>\n",
       "      <th>score</th>\n",
       "      <th>labels</th>\n",
       "    </tr>\n",
       "  </thead>\n",
       "  <tbody>\n",
       "    <tr>\n",
       "      <th>0</th>\n",
       "      <td>33.212301</td>\n",
       "      <td>1</td>\n",
       "    </tr>\n",
       "    <tr>\n",
       "      <th>1</th>\n",
       "      <td>17.342813</td>\n",
       "      <td>0</td>\n",
       "    </tr>\n",
       "    <tr>\n",
       "      <th>2</th>\n",
       "      <td>21.872133</td>\n",
       "      <td>0</td>\n",
       "    </tr>\n",
       "    <tr>\n",
       "      <th>3</th>\n",
       "      <td>67.299796</td>\n",
       "      <td>1</td>\n",
       "    </tr>\n",
       "    <tr>\n",
       "      <th>4</th>\n",
       "      <td>33.212301</td>\n",
       "      <td>1</td>\n",
       "    </tr>\n",
       "  </tbody>\n",
       "</table>\n",
       "</div>"
      ],
      "text/plain": [
       "       score  labels\n",
       "0  33.212301       1\n",
       "1  17.342813       0\n",
       "2  21.872133       0\n",
       "3  67.299796       1\n",
       "4  33.212301       1"
      ]
     },
     "execution_count": 12,
     "metadata": {},
     "output_type": "execute_result"
    }
   ],
   "source": [
    "score_labels.head()"
   ]
  },
  {
   "cell_type": "code",
   "execution_count": 13,
   "id": "f2714921",
   "metadata": {},
   "outputs": [
    {
     "data": {
      "text/plain": [
       "0        33.212301\n",
       "1        17.342813\n",
       "2        21.872133\n",
       "3        67.299796\n",
       "4        33.212301\n",
       "           ...    \n",
       "25562    17.342813\n",
       "25563    17.342813\n",
       "25564    46.286474\n",
       "25565    27.275377\n",
       "25566    30.434654\n",
       "Name: score, Length: 25567, dtype: float64"
      ]
     },
     "execution_count": 13,
     "metadata": {},
     "output_type": "execute_result"
    }
   ],
   "source": [
    "score_labels['score']"
   ]
  },
  {
   "cell_type": "code",
   "execution_count": 14,
   "id": "a9778bc4",
   "metadata": {},
   "outputs": [
    {
     "data": {
      "text/html": [
       "<div>\n",
       "<style scoped>\n",
       "    .dataframe tbody tr th:only-of-type {\n",
       "        vertical-align: middle;\n",
       "    }\n",
       "\n",
       "    .dataframe tbody tr th {\n",
       "        vertical-align: top;\n",
       "    }\n",
       "\n",
       "    .dataframe thead th {\n",
       "        text-align: right;\n",
       "    }\n",
       "</style>\n",
       "<table border=\"1\" class=\"dataframe\">\n",
       "  <thead>\n",
       "    <tr style=\"text-align: right;\">\n",
       "      <th></th>\n",
       "      <th>id,message,@version,@timestamp</th>\n",
       "    </tr>\n",
       "  </thead>\n",
       "  <tbody>\n",
       "    <tr>\n",
       "      <th>0</th>\n",
       "      <td>3y51c38BQ2yDyGVTnYjI,kernel audit,1,2022-03-10...</td>\n",
       "    </tr>\n",
       "    <tr>\n",
       "      <th>1</th>\n",
       "      <td>4C51c38BQ2yDyGVTnYjI,kernel,1,2022-03-10T10:52...</td>\n",
       "    </tr>\n",
       "    <tr>\n",
       "      <th>2</th>\n",
       "      <td>4S51c38BQ2yDyGVTnYjI,kernel Extensions device ...</td>\n",
       "    </tr>\n",
       "    <tr>\n",
       "      <th>3</th>\n",
       "      <td>4i51c38BQ2yDyGVTnYjI,kernel tunneling driver,1...</td>\n",
       "    </tr>\n",
       "    <tr>\n",
       "      <th>4</th>\n",
       "      <td>4y51c38BQ2yDyGVTnYjI,kernel audit,1,2022-03-10...</td>\n",
       "    </tr>\n",
       "  </tbody>\n",
       "</table>\n",
       "</div>"
      ],
      "text/plain": [
       "                      id,message,@version,@timestamp\n",
       "0  3y51c38BQ2yDyGVTnYjI,kernel audit,1,2022-03-10...\n",
       "1  4C51c38BQ2yDyGVTnYjI,kernel,1,2022-03-10T10:52...\n",
       "2  4S51c38BQ2yDyGVTnYjI,kernel Extensions device ...\n",
       "3  4i51c38BQ2yDyGVTnYjI,kernel tunneling driver,1...\n",
       "4  4y51c38BQ2yDyGVTnYjI,kernel audit,1,2022-03-10..."
      ]
     },
     "execution_count": 14,
     "metadata": {},
     "output_type": "execute_result"
    }
   ],
   "source": [
    "parsed_logs.head()"
   ]
  },
  {
   "cell_type": "code",
   "execution_count": 15,
   "id": "498b4f12",
   "metadata": {},
   "outputs": [
    {
     "name": "stdout",
     "output_type": "stream",
     "text": [
      "<class 'pandas.core.frame.DataFrame'>\n",
      "RangeIndex: 25567 entries, 0 to 25566\n",
      "Data columns (total 1 columns):\n",
      " #   Column                          Non-Null Count  Dtype \n",
      "---  ------                          --------------  ----- \n",
      " 0   id,message,@version,@timestamp  25567 non-null  object\n",
      "dtypes: object(1)\n",
      "memory usage: 199.9+ KB\n"
     ]
    }
   ],
   "source": [
    "parsed_logs.info()"
   ]
  },
  {
   "cell_type": "code",
   "execution_count": 16,
   "id": "cf590f20",
   "metadata": {},
   "outputs": [],
   "source": [
    "d=parsed_logs['id,message,@version,@timestamp'].str.split(',',expand=True)"
   ]
  },
  {
   "cell_type": "code",
   "execution_count": 17,
   "id": "8c2d9b92",
   "metadata": {},
   "outputs": [
    {
     "name": "stdout",
     "output_type": "stream",
     "text": [
      "<class 'pandas.core.frame.DataFrame'>\n",
      "RangeIndex: 25567 entries, 0 to 25566\n",
      "Data columns (total 4 columns):\n",
      " #   Column  Non-Null Count  Dtype \n",
      "---  ------  --------------  ----- \n",
      " 0   0       25567 non-null  object\n",
      " 1   1       25567 non-null  object\n",
      " 2   2       25567 non-null  object\n",
      " 3   3       25567 non-null  object\n",
      "dtypes: object(4)\n",
      "memory usage: 799.1+ KB\n"
     ]
    }
   ],
   "source": [
    "d.info()"
   ]
  },
  {
   "cell_type": "code",
   "execution_count": 21,
   "id": "555c19a4",
   "metadata": {},
   "outputs": [
    {
     "data": {
      "text/html": [
       "<div>\n",
       "<style scoped>\n",
       "    .dataframe tbody tr th:only-of-type {\n",
       "        vertical-align: middle;\n",
       "    }\n",
       "\n",
       "    .dataframe tbody tr th {\n",
       "        vertical-align: top;\n",
       "    }\n",
       "\n",
       "    .dataframe thead th {\n",
       "        text-align: right;\n",
       "    }\n",
       "</style>\n",
       "<table border=\"1\" class=\"dataframe\">\n",
       "  <thead>\n",
       "    <tr style=\"text-align: right;\">\n",
       "      <th></th>\n",
       "      <th>0</th>\n",
       "    </tr>\n",
       "  </thead>\n",
       "  <tbody>\n",
       "    <tr>\n",
       "      <th>0</th>\n",
       "      <td>0</td>\n",
       "    </tr>\n",
       "    <tr>\n",
       "      <th>1</th>\n",
       "      <td>1</td>\n",
       "    </tr>\n",
       "    <tr>\n",
       "      <th>2</th>\n",
       "      <td>-1</td>\n",
       "    </tr>\n",
       "    <tr>\n",
       "      <th>3</th>\n",
       "      <td>-1</td>\n",
       "    </tr>\n",
       "    <tr>\n",
       "      <th>4</th>\n",
       "      <td>0</td>\n",
       "    </tr>\n",
       "  </tbody>\n",
       "</table>\n",
       "</div>"
      ],
      "text/plain": [
       "   0\n",
       "0  0\n",
       "1  1\n",
       "2 -1\n",
       "3 -1\n",
       "4  0"
      ]
     },
     "execution_count": 21,
     "metadata": {},
     "output_type": "execute_result"
    }
   ],
   "source": [
    "cluster_number.head()"
   ]
  },
  {
   "cell_type": "code",
   "execution_count": 22,
   "id": "9a91a7b1",
   "metadata": {},
   "outputs": [],
   "source": [
    "id=d[0].tolist()\n",
    "message=d[1].tolist()\n",
    "timestamp=d[3].tolist()\n"
   ]
  },
  {
   "cell_type": "code",
   "execution_count": 11,
   "id": "7f03164c",
   "metadata": {},
   "outputs": [
    {
     "data": {
      "text/plain": [
       "25567"
      ]
     },
     "execution_count": 11,
     "metadata": {},
     "output_type": "execute_result"
    }
   ],
   "source": [
    "len(id)"
   ]
  },
  {
   "cell_type": "code",
   "execution_count": 12,
   "id": "88828e8c",
   "metadata": {},
   "outputs": [
    {
     "data": {
      "text/plain": [
       "25567"
      ]
     },
     "execution_count": 12,
     "metadata": {},
     "output_type": "execute_result"
    }
   ],
   "source": [
    "len(message)"
   ]
  },
  {
   "cell_type": "code",
   "execution_count": 13,
   "id": "840aedb6",
   "metadata": {},
   "outputs": [
    {
     "data": {
      "text/plain": [
       "25567"
      ]
     },
     "execution_count": 13,
     "metadata": {},
     "output_type": "execute_result"
    }
   ],
   "source": [
    "len(timestamp)"
   ]
  },
  {
   "cell_type": "code",
   "execution_count": 23,
   "id": "2408e627",
   "metadata": {},
   "outputs": [],
   "source": [
    "dict={\"id\":d[0].tolist(),\"Message\":d[1].tolist(),\"Time Stamp\":d[3].tolist(),\"Score\":score_labels['score'].tolist(),\"Cluster_number\":cluster_number['0'].tolist(),\"labels\":score_labels['labels'].tolist()}"
   ]
  },
  {
   "cell_type": "code",
   "execution_count": null,
   "id": "d5c84dcf",
   "metadata": {},
   "outputs": [],
   "source": []
  },
  {
   "cell_type": "code",
   "execution_count": 24,
   "id": "c1e8d56e",
   "metadata": {},
   "outputs": [],
   "source": [
    "df=pd.DataFrame.from_dict(dict)"
   ]
  },
  {
   "cell_type": "code",
   "execution_count": 25,
   "id": "52c1acd1",
   "metadata": {},
   "outputs": [
    {
     "data": {
      "text/html": [
       "<div>\n",
       "<style scoped>\n",
       "    .dataframe tbody tr th:only-of-type {\n",
       "        vertical-align: middle;\n",
       "    }\n",
       "\n",
       "    .dataframe tbody tr th {\n",
       "        vertical-align: top;\n",
       "    }\n",
       "\n",
       "    .dataframe thead th {\n",
       "        text-align: right;\n",
       "    }\n",
       "</style>\n",
       "<table border=\"1\" class=\"dataframe\">\n",
       "  <thead>\n",
       "    <tr style=\"text-align: right;\">\n",
       "      <th></th>\n",
       "      <th>id</th>\n",
       "      <th>Message</th>\n",
       "      <th>Time Stamp</th>\n",
       "      <th>Score</th>\n",
       "      <th>Cluster_number</th>\n",
       "      <th>labels</th>\n",
       "    </tr>\n",
       "  </thead>\n",
       "  <tbody>\n",
       "    <tr>\n",
       "      <th>0</th>\n",
       "      <td>3y51c38BQ2yDyGVTnYjI</td>\n",
       "      <td>kernel audit</td>\n",
       "      <td>2022-03-10T10:52:41.313Z</td>\n",
       "      <td>33.212301</td>\n",
       "      <td>0</td>\n",
       "      <td>1</td>\n",
       "    </tr>\n",
       "    <tr>\n",
       "      <th>1</th>\n",
       "      <td>4C51c38BQ2yDyGVTnYjI</td>\n",
       "      <td>kernel</td>\n",
       "      <td>2022-03-10T10:52:41.313Z</td>\n",
       "      <td>17.342813</td>\n",
       "      <td>1</td>\n",
       "      <td>0</td>\n",
       "    </tr>\n",
       "    <tr>\n",
       "      <th>2</th>\n",
       "      <td>4S51c38BQ2yDyGVTnYjI</td>\n",
       "      <td>kernel Extensions device dblo</td>\n",
       "      <td>2022-03-10T10:52:41.313Z</td>\n",
       "      <td>21.872133</td>\n",
       "      <td>-1</td>\n",
       "      <td>0</td>\n",
       "    </tr>\n",
       "    <tr>\n",
       "      <th>3</th>\n",
       "      <td>4i51c38BQ2yDyGVTnYjI</td>\n",
       "      <td>kernel tunneling driver</td>\n",
       "      <td>2022-03-10T10:52:41.313Z</td>\n",
       "      <td>67.299796</td>\n",
       "      <td>-1</td>\n",
       "      <td>1</td>\n",
       "    </tr>\n",
       "    <tr>\n",
       "      <th>4</th>\n",
       "      <td>4y51c38BQ2yDyGVTnYjI</td>\n",
       "      <td>kernel audit</td>\n",
       "      <td>2022-03-10T10:52:41.350Z</td>\n",
       "      <td>33.212301</td>\n",
       "      <td>0</td>\n",
       "      <td>1</td>\n",
       "    </tr>\n",
       "  </tbody>\n",
       "</table>\n",
       "</div>"
      ],
      "text/plain": [
       "                     id                        Message  \\\n",
       "0  3y51c38BQ2yDyGVTnYjI                   kernel audit   \n",
       "1  4C51c38BQ2yDyGVTnYjI                         kernel   \n",
       "2  4S51c38BQ2yDyGVTnYjI  kernel Extensions device dblo   \n",
       "3  4i51c38BQ2yDyGVTnYjI        kernel tunneling driver   \n",
       "4  4y51c38BQ2yDyGVTnYjI                   kernel audit   \n",
       "\n",
       "                 Time Stamp      Score  Cluster_number  labels  \n",
       "0  2022-03-10T10:52:41.313Z  33.212301               0       1  \n",
       "1  2022-03-10T10:52:41.313Z  17.342813               1       0  \n",
       "2  2022-03-10T10:52:41.313Z  21.872133              -1       0  \n",
       "3  2022-03-10T10:52:41.313Z  67.299796              -1       1  \n",
       "4  2022-03-10T10:52:41.350Z  33.212301               0       1  "
      ]
     },
     "execution_count": 25,
     "metadata": {},
     "output_type": "execute_result"
    }
   ],
   "source": [
    "df.head()"
   ]
  },
  {
   "cell_type": "code",
   "execution_count": 26,
   "id": "b8a2baa4",
   "metadata": {},
   "outputs": [],
   "source": [
    "df.to_csv(r'C:\\Users\\91852\\OneDrive\\Desktop\\final_file.csv')"
   ]
  },
  {
   "cell_type": "code",
   "execution_count": null,
   "id": "3a96a9cd",
   "metadata": {},
   "outputs": [],
   "source": []
  }
 ],
 "metadata": {
  "kernelspec": {
   "display_name": "Python 3 (ipykernel)",
   "language": "python",
   "name": "python3"
  },
  "language_info": {
   "codemirror_mode": {
    "name": "ipython",
    "version": 3
   },
   "file_extension": ".py",
   "mimetype": "text/x-python",
   "name": "python",
   "nbconvert_exporter": "python",
   "pygments_lexer": "ipython3",
   "version": "3.9.7"
  }
 },
 "nbformat": 4,
 "nbformat_minor": 5
}
