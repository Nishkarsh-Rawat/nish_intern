{
 "cells": [
  {
   "cell_type": "code",
   "execution_count": 5,
   "id": "5ee95d68",
   "metadata": {},
   "outputs": [],
   "source": [
    "import pandas as pd\n",
    "import numpy as np\n",
    "data=pd.read_csv(r\"C:\\Users\\91852\\OneDrive\\Desktop\\cl_input.csv\")"
   ]
  },
  {
   "cell_type": "code",
   "execution_count": 6,
   "id": "d6791173",
   "metadata": {},
   "outputs": [
    {
     "data": {
      "text/html": [
       "<div>\n",
       "<style scoped>\n",
       "    .dataframe tbody tr th:only-of-type {\n",
       "        vertical-align: middle;\n",
       "    }\n",
       "\n",
       "    .dataframe tbody tr th {\n",
       "        vertical-align: top;\n",
       "    }\n",
       "\n",
       "    .dataframe thead th {\n",
       "        text-align: right;\n",
       "    }\n",
       "</style>\n",
       "<table border=\"1\" class=\"dataframe\">\n",
       "  <thead>\n",
       "    <tr style=\"text-align: right;\">\n",
       "      <th></th>\n",
       "      <th>0</th>\n",
       "      <th>1</th>\n",
       "      <th>2</th>\n",
       "      <th>3</th>\n",
       "      <th>4</th>\n",
       "      <th>5</th>\n",
       "      <th>6</th>\n",
       "      <th>7</th>\n",
       "    </tr>\n",
       "  </thead>\n",
       "  <tbody>\n",
       "    <tr>\n",
       "      <th>0</th>\n",
       "      <td>-0.167936</td>\n",
       "      <td>-0.005548</td>\n",
       "      <td>0.149060</td>\n",
       "      <td>-0.185278</td>\n",
       "      <td>-0.620565</td>\n",
       "      <td>0.649526</td>\n",
       "      <td>0.620921</td>\n",
       "      <td>-0.342853</td>\n",
       "    </tr>\n",
       "    <tr>\n",
       "      <th>1</th>\n",
       "      <td>0.139032</td>\n",
       "      <td>-0.175757</td>\n",
       "      <td>0.004710</td>\n",
       "      <td>-0.218603</td>\n",
       "      <td>-0.182120</td>\n",
       "      <td>-0.086015</td>\n",
       "      <td>0.055800</td>\n",
       "      <td>0.015621</td>\n",
       "    </tr>\n",
       "    <tr>\n",
       "      <th>2</th>\n",
       "      <td>-0.198300</td>\n",
       "      <td>-0.571020</td>\n",
       "      <td>0.344419</td>\n",
       "      <td>-0.113230</td>\n",
       "      <td>-0.269252</td>\n",
       "      <td>0.278363</td>\n",
       "      <td>0.227463</td>\n",
       "      <td>0.703831</td>\n",
       "    </tr>\n",
       "    <tr>\n",
       "      <th>3</th>\n",
       "      <td>0.568143</td>\n",
       "      <td>0.469667</td>\n",
       "      <td>1.015514</td>\n",
       "      <td>0.045738</td>\n",
       "      <td>-0.317122</td>\n",
       "      <td>-0.565448</td>\n",
       "      <td>-0.160784</td>\n",
       "      <td>-0.821252</td>\n",
       "    </tr>\n",
       "    <tr>\n",
       "      <th>4</th>\n",
       "      <td>-0.167936</td>\n",
       "      <td>-0.005548</td>\n",
       "      <td>0.149060</td>\n",
       "      <td>-0.185278</td>\n",
       "      <td>-0.620565</td>\n",
       "      <td>0.649526</td>\n",
       "      <td>0.620921</td>\n",
       "      <td>-0.342853</td>\n",
       "    </tr>\n",
       "  </tbody>\n",
       "</table>\n",
       "</div>"
      ],
      "text/plain": [
       "          0         1         2         3         4         5         6  \\\n",
       "0 -0.167936 -0.005548  0.149060 -0.185278 -0.620565  0.649526  0.620921   \n",
       "1  0.139032 -0.175757  0.004710 -0.218603 -0.182120 -0.086015  0.055800   \n",
       "2 -0.198300 -0.571020  0.344419 -0.113230 -0.269252  0.278363  0.227463   \n",
       "3  0.568143  0.469667  1.015514  0.045738 -0.317122 -0.565448 -0.160784   \n",
       "4 -0.167936 -0.005548  0.149060 -0.185278 -0.620565  0.649526  0.620921   \n",
       "\n",
       "          7  \n",
       "0 -0.342853  \n",
       "1  0.015621  \n",
       "2  0.703831  \n",
       "3 -0.821252  \n",
       "4 -0.342853  "
      ]
     },
     "execution_count": 6,
     "metadata": {},
     "output_type": "execute_result"
    }
   ],
   "source": [
    "data.head()"
   ]
  },
  {
   "cell_type": "code",
   "execution_count": 7,
   "id": "eb7fcc53",
   "metadata": {},
   "outputs": [
    {
     "name": "stdout",
     "output_type": "stream",
     "text": [
      "<class 'pandas.core.frame.DataFrame'>\n",
      "RangeIndex: 25567 entries, 0 to 25566\n",
      "Data columns (total 8 columns):\n",
      " #   Column  Non-Null Count  Dtype  \n",
      "---  ------  --------------  -----  \n",
      " 0   0       25567 non-null  float64\n",
      " 1   1       25567 non-null  float64\n",
      " 2   2       25567 non-null  float64\n",
      " 3   3       25567 non-null  float64\n",
      " 4   4       25567 non-null  float64\n",
      " 5   5       25567 non-null  float64\n",
      " 6   6       25567 non-null  float64\n",
      " 7   7       25567 non-null  float64\n",
      "dtypes: float64(8)\n",
      "memory usage: 1.6 MB\n"
     ]
    }
   ],
   "source": [
    "data.info()"
   ]
  },
  {
   "cell_type": "code",
   "execution_count": 8,
   "id": "cfdb42c1",
   "metadata": {},
   "outputs": [
    {
     "data": {
      "text/plain": [
       "0    1.403082\n",
       "1    2.325456\n",
       "2    1.559945\n",
       "3    1.580160\n",
       "4    1.125701\n",
       "5    1.714089\n",
       "6    1.939184\n",
       "7    1.898617\n",
       "dtype: float64"
      ]
     },
     "execution_count": 8,
     "metadata": {},
     "output_type": "execute_result"
    }
   ],
   "source": [
    "data.max()"
   ]
  },
  {
   "cell_type": "code",
   "execution_count": 9,
   "id": "8f86b741",
   "metadata": {},
   "outputs": [
    {
     "data": {
      "text/plain": [
       "0   -1.845253\n",
       "1   -1.799696\n",
       "2   -1.279297\n",
       "3   -1.703893\n",
       "4   -1.572272\n",
       "5   -2.659828\n",
       "6   -1.456086\n",
       "7   -1.627792\n",
       "dtype: float64"
      ]
     },
     "execution_count": 9,
     "metadata": {},
     "output_type": "execute_result"
    }
   ],
   "source": [
    "data.min()"
   ]
  },
  {
   "cell_type": "code",
   "execution_count": null,
   "id": "48bff85e",
   "metadata": {},
   "outputs": [],
   "source": []
  },
  {
   "cell_type": "markdown",
   "id": "47d1c6f0",
   "metadata": {},
   "source": [
    "# Clustering"
   ]
  },
  {
   "cell_type": "markdown",
   "id": "1737ca8d",
   "metadata": {},
   "source": [
    "## DBSCAN"
   ]
  },
  {
   "cell_type": "markdown",
   "id": "0c01ad9e",
   "metadata": {},
   "source": [
    "### selecting emp "
   ]
  },
  {
   "cell_type": "code",
   "execution_count": 10,
   "id": "153a8006",
   "metadata": {},
   "outputs": [],
   "source": [
    "from sklearn.neighbors import NearestNeighbors\n",
    "from matplotlib import pyplot as plt"
   ]
  },
  {
   "cell_type": "code",
   "execution_count": 19,
   "id": "49e04f53",
   "metadata": {},
   "outputs": [],
   "source": [
    "import time\n",
    "st_time=time.time()\n",
    "neighbors = NearestNeighbors(n_neighbors=100)\n",
    "neighbors_fit = neighbors.fit(data)\n",
    "distances, indices = neighbors_fit.kneighbors(data)\n",
    "end_time=time.time()\n"
   ]
  },
  {
   "cell_type": "code",
   "execution_count": 20,
   "id": "b6483344",
   "metadata": {},
   "outputs": [
    {
     "name": "stdout",
     "output_type": "stream",
     "text": [
      "2.3235270977020264\n"
     ]
    }
   ],
   "source": [
    "print(end_time-st_time)"
   ]
  },
  {
   "cell_type": "code",
   "execution_count": 21,
   "id": "cc9f3513",
   "metadata": {
    "scrolled": true
   },
   "outputs": [
    {
     "data": {
      "text/plain": [
       "[<matplotlib.lines.Line2D at 0x21ea7238f40>]"
      ]
     },
     "execution_count": 21,
     "metadata": {},
     "output_type": "execute_result"
    },
    {
     "data": {
      "image/png": "[encoded data removed]",
      "text/plain": [
       "<Figure size 432x288 with 1 Axes>"
      ]
     },
     "metadata": {
      "needs_background": "light"
     },
     "output_type": "display_data"
    }
   ],
   "source": [
    "distances = np.sort(distances, axis=0)\n",
    "distances = distances[:,1]\n",
    "plt.plot(distances)"
   ]
  },
  {
   "cell_type": "code",
   "execution_count": 23,
   "id": "38287ad8",
   "metadata": {},
   "outputs": [],
   "source": [
    "from sklearn.cluster import DBSCAN"
   ]
  },
  {
   "cell_type": "code",
   "execution_count": 27,
   "id": "518fd410",
   "metadata": {},
   "outputs": [],
   "source": [
    "st_time=time.time()\n",
    "db = DBSCAN(eps=0.02, min_samples=100).fit(data)\n",
    "sample_cores=np.zeros_like(labels,dtype=bool)\n",
    "sample_cores[db.core_sample_indices_]=True\n",
    "end_time=time.time()\n",
    "\n"
   ]
  },
  {
   "cell_type": "code",
   "execution_count": 28,
   "id": "321a8da0",
   "metadata": {},
   "outputs": [
    {
     "name": "stdout",
     "output_type": "stream",
     "text": [
      "2.167396068572998\n"
     ]
    }
   ],
   "source": [
    "print(end_time-st_time)"
   ]
  },
  {
   "cell_type": "code",
   "execution_count": 30,
   "id": "b8a07664",
   "metadata": {},
   "outputs": [],
   "source": [
    "labels=db.labels_\n"
   ]
  },
  {
   "cell_type": "code",
   "execution_count": 31,
   "id": "38c4b6c4",
   "metadata": {},
   "outputs": [
    {
     "name": "stdout",
     "output_type": "stream",
     "text": [
      "0.6840833885958427\n"
     ]
    }
   ],
   "source": [
    "from sklearn import metrics\n",
    "\n",
    "print(metrics.silhouette_score(data,labels))"
   ]
  },
  {
   "cell_type": "code",
   "execution_count": 32,
   "id": "f337b307",
   "metadata": {},
   "outputs": [
    {
     "data": {
      "text/plain": [
       "21"
      ]
     },
     "execution_count": 32,
     "metadata": {},
     "output_type": "execute_result"
    }
   ],
   "source": [
    "n_clusters=len(set(labels))- (1 if -1 in labels else 0)\n",
    "n_clusters"
   ]
  },
  {
   "cell_type": "code",
   "execution_count": 33,
   "id": "8364e37e",
   "metadata": {},
   "outputs": [
    {
     "name": "stdout",
     "output_type": "stream",
     "text": [
      "Estimated number of noise points: 5604\n"
     ]
    }
   ],
   "source": [
    "n_noise_ = list(labels).count(-1)\n",
    "\n",
    "\n",
    "print(\"Estimated number of noise points: %d\" % n_noise_)\n",
    "\n"
   ]
  },
  {
   "cell_type": "code",
   "execution_count": 34,
   "id": "e6c7e2f4",
   "metadata": {},
   "outputs": [],
   "source": [
    "l=list(labels)\n",
    "cl_labels=[0] *n_clusters"
   ]
  },
  {
   "cell_type": "code",
   "execution_count": 35,
   "id": "2f740c4d",
   "metadata": {},
   "outputs": [],
   "source": [
    "for i in range(len(l)):\n",
    "    if l[i]!=-1:\n",
    "        cl_labels[l[i]]=cl_labels[l[i]]+1"
   ]
  },
  {
   "cell_type": "code",
   "execution_count": 36,
   "id": "cbaff6eb",
   "metadata": {},
   "outputs": [
    {
     "name": "stdout",
     "output_type": "stream",
     "text": [
      "0    320\n",
      "1    162\n",
      "2    184\n",
      "3    129\n",
      "4    131\n",
      "5    108\n",
      "6    108\n",
      "7    2753\n",
      "8    3357\n",
      "9    153\n",
      "10    112\n",
      "11    117\n",
      "12    8903\n",
      "13    1153\n",
      "14    231\n",
      "15    231\n",
      "16    230\n",
      "17    231\n",
      "18    231\n",
      "19    231\n",
      "20    888\n"
     ]
    }
   ],
   "source": [
    "for i in range(len(cl_labels)):\n",
    "    print(i,\"  \",cl_labels[i])\n",
    "#cl_labels"
   ]
  },
  {
   "cell_type": "code",
   "execution_count": null,
   "id": "b622cb38",
   "metadata": {},
   "outputs": [],
   "source": []
  },
  {
   "cell_type": "markdown",
   "id": "0960ad3b",
   "metadata": {},
   "source": [
    "##  T-SNE"
   ]
  },
  {
   "cell_type": "code",
   "execution_count": 37,
   "id": "90b8a7c1",
   "metadata": {},
   "outputs": [],
   "source": [
    "from sklearn.manifold import TSNE\n",
    "from sklearn.preprocessing import StandardScaler"
   ]
  },
  {
   "cell_type": "code",
   "execution_count": 38,
   "id": "f08334bd",
   "metadata": {},
   "outputs": [],
   "source": [
    "model = TSNE(n_components = 2, random_state = 0)"
   ]
  },
  {
   "cell_type": "code",
   "execution_count": 39,
   "id": "abfef419",
   "metadata": {},
   "outputs": [],
   "source": [
    "st_time=time.time()\n",
    "tsne_data = model.fit_transform(data)\n",
    "end_time=time.time()"
   ]
  },
  {
   "cell_type": "code",
   "execution_count": 40,
   "id": "f0128bb0",
   "metadata": {},
   "outputs": [
    {
     "name": "stdout",
     "output_type": "stream",
     "text": [
      "176.8334882259369\n"
     ]
    }
   ],
   "source": [
    "print(end_time-st_time)"
   ]
  },
  {
   "cell_type": "code",
   "execution_count": 41,
   "id": "7979d960",
   "metadata": {},
   "outputs": [],
   "source": [
    "tsne_data = np.vstack((tsne_data.T, labels)).T\n",
    "tsne_df = pd.DataFrame(data = tsne_data,\n",
    "     columns =(\"Dim_1\", \"Dim_2\", \"label\"))"
   ]
  },
  {
   "cell_type": "code",
   "execution_count": 42,
   "id": "6af20902",
   "metadata": {},
   "outputs": [],
   "source": [
    "import seaborn"
   ]
  },
  {
   "cell_type": "code",
   "execution_count": 43,
   "id": "930fd9df",
   "metadata": {},
   "outputs": [
    {
     "data": {
      "image/png": "[encoded data removed]",
      "text/plain": [
       "<Figure size 490.375x432 with 1 Axes>"
      ]
     },
     "metadata": {
      "needs_background": "light"
     },
     "output_type": "display_data"
    }
   ],
   "source": [
    "seaborn.FacetGrid(tsne_df, hue =\"label\", height = 6).map(\n",
    "       plt.scatter, 'Dim_1', 'Dim_2').add_legend()\n",
    " \n",
    "plt.show()"
   ]
  },
  {
   "cell_type": "code",
   "execution_count": 44,
   "id": "dbd210ea",
   "metadata": {},
   "outputs": [
    {
     "data": {
      "text/plain": [
       "<Figure size 432x288 with 0 Axes>"
      ]
     },
     "metadata": {},
     "output_type": "display_data"
    }
   ],
   "source": [
    "plt.savefig(r'C:\\Users\\91852\\OneDrive\\Desktop\\Clusters.png')"
   ]
  },
  {
   "cell_type": "code",
   "execution_count": null,
   "id": "ca366fb9",
   "metadata": {},
   "outputs": [],
   "source": []
  }
 ],
 "metadata": {
  "kernelspec": {
   "display_name": "Python 3 (ipykernel)",
   "language": "python",
   "name": "python3"
  },
  "language_info": {
   "codemirror_mode": {
    "name": "ipython",
    "version": 3
   },
   "file_extension": ".py",
   "mimetype": "text/x-python",
   "name": "python",
   "nbconvert_exporter": "python",
   "pygments_lexer": "ipython3",
   "version": "3.9.7"
  }
 },
 "nbformat": 4,
 "nbformat_minor": 5
}
